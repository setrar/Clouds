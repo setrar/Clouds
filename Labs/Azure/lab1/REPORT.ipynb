{
 "cells": [
  {
   "cell_type": "markdown",
   "id": "1e4ccec5-3482-4160-9fbd-24971c75262c",
   "metadata": {},
   "source": [
    "$\\Huge{\\textbf{Clouds Course}}$\n",
    "\n",
    "$\\normalsize{\\textbf{Assignment 1 Deliverable}}$"
   ]
  },
  {
   "cell_type": "markdown",
   "id": "ab833f0a-0c58-43d4-893b-d9c6d0bd72d4",
   "metadata": {},
   "source": [
    "$\\color{blue}\\textbf{Name :}$\n",
    "\n",
    "$\\boxed{\\text{        Brice Robert          }}$\n",
    "\n",
    "$\\color{blue}\\textbf{Email :}$\n",
    "\n",
    "$\\boxed{\\text{robert@eurecom.fr}}$\n"
   ]
  },
  {
   "cell_type": "markdown",
   "id": "140b64c5-e368-4e7d-94b4-bf4cd0a5f471",
   "metadata": {},
   "source": [
    "# Create a free Azure account"
   ]
  },
  {
   "cell_type": "markdown",
   "id": "0a565008-b648-422c-a98d-be3af7dbcd93",
   "metadata": {},
   "source": [
    "$\\color{blue}\\textbf{Did you run into any problems with creating an Azure account?}$\n",
    "\n",
    "---\n",
    "\n",
    "$\\color{blue} \\textbf{Your answer:}$ Having to deal with the personal account before hand was confusing but finally the Azure Account was credited using the EURECOM’s email address."
   ]
  },
  {
   "cell_type": "markdown",
   "id": "d2df40b8-6adb-4efa-8ef4-a488b40f2dac",
   "metadata": {},
   "source": [
    "# Deploy a website on Virtual Machine"
   ]
  },
  {
   "cell_type": "markdown",
   "id": "58274ac5-2684-434d-87ff-40b5cea0b59c",
   "metadata": {},
   "source": [
    "$\\color{blue}\\textbf{What is the VM instance type you used? How many cores and memory does it have?}$\n",
    "\n",
    "--- \n",
    "\n",
    "$\\color{blue} \\textbf{Your answer:}$ \n",
    "\n",
    "--- \n",
    "\n",
    "$\\color{blue}\\textbf{What is the size of the virtual disk used by the VM? What type is it?}$\n",
    "\n",
    "--- \n",
    "\n",
    "$\\color{blue} \\textbf{Your answer:}$ \n",
    "\n",
    "--- \n",
    "\n",
    "$\\color{blue}\\textbf{What is the public ip address of the VM where we can access your site?}$\n",
    "\n",
    "--- \n",
    "\n",
    "$\\color{blue} \\textbf{Your answer:}$ \n"
   ]
  },
  {
   "cell_type": "markdown",
   "id": "fbe42fef-6406-4d61-9a82-feff9dce3c93",
   "metadata": {},
   "source": [
    "# Provision disks in VM and measure IOPS"
   ]
  },
  {
   "cell_type": "markdown",
   "id": "b996eb45-b779-49c7-97bf-f399a12de502",
   "metadata": {},
   "source": [
    "$\\color{blue}\\textbf{What VM type did you resize to?}$ \n",
    "\n",
    "$\\color{blue}\\textbf{What is the difference in spec between this type and the one you used before?}$\n",
    "\n",
    "--- \n",
    "\n",
    "$\\color{blue} \\textbf{Your answer:}$ \n",
    "\n",
    "--- \n",
    "\n",
    "$\\color{blue}\\textbf{What type of disks did you add? What were their sizes?}$ \n",
    "\n",
    "$\\color{blue}\\textbf{According to Azure, what is their expected sequencing bandwidth and random IOPS?}$\n",
    "\n",
    "--- \n",
    "\n",
    "$\\color{blue} \\textbf{Your answer:}$ \n",
    "\n",
    "--- \n",
    "\n",
    "$\\color{blue}\\textbf{What is the sequencing bandwidth and random IOPS you measured with FIO?}$\n",
    "\n",
    "---\n",
    "\n",
    "$\\color{blue} \\textbf{Your answer:}$ \n"
   ]
  },
  {
   "cell_type": "markdown",
   "id": "572ac98f-4443-4065-8db6-e1e6f5151558",
   "metadata": {},
   "source": [
    "# Deploy dockerized static site via Azure ACR"
   ]
  },
  {
   "cell_type": "markdown",
   "id": "0577bc52-6919-4265-acd1-d8e9c274af9a",
   "metadata": {},
   "source": [
    "$\\color{blue}\\textbf{What is the public ip address of the ACI }$ \n",
    "\n",
    "$\\color{blue}\\textbf{deployed container instance where we can access your site?}$\n",
    "\n",
    "---\n",
    "\n",
    "$\\color{blue} \\textbf{Your answer:}$ \n",
    "\n",
    "---\n",
    "\n",
    "$\\color{blue}\\textbf{What is the size of the container image used?}$ \n",
    "\n",
    "$\\color{blue}\\textbf{ (You can find this by listing the size of all images in your container registry)}$\n",
    "\n",
    "---\n",
    "\n",
    "$\\color{blue} \\textbf{Your answer:}$ "
   ]
  },
  {
   "cell_type": "markdown",
   "id": "2f351428-65b4-48c3-b838-6e5408aee9c5",
   "metadata": {},
   "source": [
    "# Deploy static site on Azure Blob Store"
   ]
  },
  {
   "cell_type": "markdown",
   "id": "aebb3582-f602-4299-97b7-98ad905c5a23",
   "metadata": {},
   "source": [
    "$\\color{blue}\\textbf{What is the public address of the Blob store static site?}$\n",
    "\n",
    "---\n",
    "\n",
    "$\\color{blue} \\textbf{Your answer:}$ \n"
   ]
  },
  {
   "cell_type": "markdown",
   "id": "922c7e95-b767-4d79-bcac-a09d29e870a7",
   "metadata": {},
   "source": [
    "$\\Large{\\textbf{Summary Questions. }}$"
   ]
  },
  {
   "cell_type": "markdown",
   "id": "2ff41fd7-c06e-4256-bd66-893de4bba8db",
   "metadata": {},
   "source": [
    "$\\color{blue}\\textbf{You should have created a RG for each assignment separately.}$ \n",
    "\n",
    "$\\color{blue}\\textbf{Report the cost distribution across various RGs that you can find in }$ \n",
    "\n",
    "$\\color{blue}\\textbf{Azure Cost Analysis under Cost Management.}$\n",
    "\n",
    "---\n",
    "\n",
    "$\\color{blue} \\textbf{Your answer:}$ \n"
   ]
  },
  {
   "cell_type": "code",
   "execution_count": null,
   "id": "5dc5fb53-05d3-4991-bfae-342881c198f4",
   "metadata": {},
   "outputs": [],
   "source": []
  }
 ],
 "metadata": {
  "kernelspec": {
   "display_name": "Julia 1.11.1",
   "language": "julia",
   "name": "julia-1.11"
  },
  "language_info": {
   "file_extension": ".jl",
   "mimetype": "application/julia",
   "name": "julia",
   "version": "1.11.1"
  }
 },
 "nbformat": 4,
 "nbformat_minor": 5
}
