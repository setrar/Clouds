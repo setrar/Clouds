{
 "cells": [
  {
   "cell_type": "markdown",
   "id": "318597fc-bdd8-47cb-8c4e-465c86f617ea",
   "metadata": {},
   "source": [
    "$$\\Huge{\\textbf{CLOUDS Assignment 2}}$$\n",
    "\n",
    "This assignment is a series of labs using the Azure cloud. In the last assignment, you covered\n",
    "material from lectures 1 and 2. In this assignment, you will carry out a series of tasks that cover\n",
    "lectures 3 and 4.\n",
    "\n",
    "**NOTE: All the code you write in this assignment should be stored in a git repository. I\n",
    "suggest you one repo for all your assignments with separate folders per assignment. You\n",
    "can use gitlab.eurecom.fr. You will need to submit your gitlab link.**"
   ]
  },
  {
   "cell_type": "markdown",
   "id": "1c413532-7146-4f8a-9f67-0e7cadbd06b0",
   "metadata": {},
   "source": [
    "# 1. Create a microservice that does numerical integration"
   ]
  },
  {
   "cell_type": "markdown",
   "id": "4e8a081d-f4bd-4eae-adfb-b5a63342426d",
   "metadata": {},
   "source": [
    "1. We saw how to do numerical integration in the class. You first task is to create a program that can\n",
    "do numerical integration with the function abs(sin(x)). Given an interval lower and upper, your code\n",
    "should break up the interval into $N$ subintervals, compute the area of the rectangle at each\n",
    "subinterval and add them all up. For example, if you give as input 0 and 3.14159 (which is\n",
    "approximately $\\pi$), you should get $1.99…$ which is close to $2$ ($\\int \\sin 𝑥 = − \\cos 𝑥$, ignoring aspects of\n",
    "continuity, which when evaluated in the range gives you $- \\cos \\pi + \\cos 0 = 2$). Your program should\n",
    "loop and repeatedly compute numerical integral for $N = 10, 100, 100, 1000, 10k, 100k, 1M$. You will\n",
    "end up getting 7 values, one for each value of N. You will see that as N increases, result\n",
    "converges to 2.This will also make the integral computation time consuming which will be useful for\n",
    "load testing later.\n",
    "\n",
    "2. Now take the python program from above and convert it into a microservice. Read section 19.1 if\n",
    "you want to know what a microservice is if you have not read it already. You can use any\n",
    "framework you want (python (flask), javascript (nodejs), C# (.net)). I recommend python & flask.\n",
    "The microservice, when run, will take the lower and upper as arguments. These could be URL\n",
    "route or parameters (http://localhost:5000/numericalintegralservice/0/3.14159). What you are\n",
    "doing is instead of invoking the program via python interpreter, you are invoking it via a HTTP\n",
    "call.\n",
    "\n",
    "3. Test your microservice locally on your computer. If you cant use a local computer, you can get a\n",
    "VM from Azure and do your development there. Use curl or a browser to verify that it works.\n",
    "Next, load test your microservice with Locust (https://locust.io/). The goal is to create many\n",
    "clients that all invoke the service over HTTP simulatenously. Test with 1 client. If it works, test\n",
    "with multiple clients. Here’s a reference guide to run locust without a UI1\n",
    "(https://docs.locust.io/en/stable/running-without-web-ui.html#running-without-web-ui). You can\n",
    "use a simple locustfile.py like the following:\n",
    "```python\n",
    "import time\n",
    "from locust import HttpUser, task, between\n",
    "\n",
    "class QuickstartUser(HttpUser):\n",
    "    @task\n",
    "    def hello_world(self):\n",
    "        self.client.get(\"/integral/0/3.14159\")\n",
    "```\n",
    "\n",
    "4. **For your deliverable, run Locust for 3 minutes and save its output. You will have stable\n",
    "performance. You will use the output to plot a graph later.**"
   ]
  },
  {
   "cell_type": "markdown",
   "id": "60a07388-0521-44ef-8b27-eae5ad5c6ec9",
   "metadata": {},
   "source": [
    "# 2. Improving availability with scalesets"
   ]
  },
  {
   "cell_type": "markdown",
   "id": "1d025722-9b47-4424-a028-e62c02e74a27",
   "metadata": {},
   "source": [
    "1. Read AzureMol book chapter 5 to know about Networking (vnics mainly and ssh-agent). Read\n",
    "chapter 6 to know about ARM templates, chapte 7 about availability, and chapter 8 about load\n",
    "balancing. You don’t have to do the exercises if you don’t want to. Now read chapter 9 with\n",
    "particular focus on VM scaling. You will see how all the above come together.\n",
    "2. Create a VM scaleset with 2 VMs. Manually configure both VMs so that you the microservice you\n",
    "built in part 1 is deployed on both VMs. Note that the VMs will be behind a load balancer this\n",
    "time. You will be tunneling (all of this is explained in the book). Here’s a reference for a quick and\n",
    "dirty way to configure your VMs to deploy a flask app with NGINX\n",
    "(https://krishansubudhi.github.io/webapp/2018/12/01/flaskwebapp.html)\n",
    "3. Use your development VM or your computer to now perform a load testing on the scale set you\n",
    "just deployed. While the load tester is running, check Azure Insights or VM directly to see which\n",
    "VM is serving the load. Note the latencies reported by your load tester also.\n",
    "4. While the load tester is running, manually shutdown the VM that is servicing the load. Notice\n",
    "what happens with the load tester – does throughput drop? Does it go back up again? Notice\n",
    "how load balancer redirects load to the other VM.\n",
    "5. **NOTE: You will need to run Locust for 3 minutes and save its output. In the middle of this\n",
    "run, you will turn off the VM. You will use the output to plot a graph later.**\n",
    "6. Delete the scaleset and free up all resources"
   ]
  },
  {
   "cell_type": "code",
   "execution_count": null,
   "id": "5dcb2173-8e75-4329-aa13-f40de1290c8b",
   "metadata": {},
   "outputs": [],
   "source": []
  }
 ],
 "metadata": {
  "kernelspec": {
   "display_name": "Julia 1.11.1",
   "language": "julia",
   "name": "julia-1.11"
  },
  "language_info": {
   "file_extension": ".jl",
   "mimetype": "application/julia",
   "name": "julia",
   "version": "1.11.1"
  }
 },
 "nbformat": 4,
 "nbformat_minor": 5
}
