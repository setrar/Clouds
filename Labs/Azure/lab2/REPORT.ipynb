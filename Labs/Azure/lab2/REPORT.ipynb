{
 "cells": [
  {
   "cell_type": "markdown",
   "id": "1e4ccec5-3482-4160-9fbd-24971c75262c",
   "metadata": {},
   "source": [
    "$\\Huge{\\textbf{Clouds Course}}$\n",
    "\n",
    "$\\normalsize{\\textbf{Assignment 2 Deliverable}}$"
   ]
  },
  {
   "cell_type": "markdown",
   "id": "ab833f0a-0c58-43d4-893b-d9c6d0bd72d4",
   "metadata": {},
   "source": [
    "---\n",
    "\n",
    "$\\color{blue}\\textbf{Name :}$\n",
    "\n",
    "$\\boxed{\\text{        Brice Robert          }}$\n",
    "\n",
    "$\\color{blue}\\textbf{Email :}$\n",
    "\n",
    "$\\boxed{\\text{robert@eurecom.fr}}$\n",
    "\n",
    "---"
   ]
  },
  {
   "cell_type": "markdown",
   "id": "0a565008-b648-422c-a98d-be3af7dbcd93",
   "metadata": {},
   "source": [
    "$\\color{blue}\\textbf{Run Locust for 3 minutes each on :}$\n",
    "\n",
    "$\\color{blue}\\textbf{(i) locally deployed numericalintegral, }$\n",
    "\n",
    "$\\color{blue}\\textbf{(ii) VM scaleset with 2 VMs where you shutdown the VM running the workload after 1 minute, }$\n",
    "\n",
    "$\\color{blue}\\textbf{(iii) autoscale webapp initially configured with 1 instance and max 3, }$\n",
    "\n",
    "$\\color{blue}\\textbf{(iv) autoscale function. Save locust output. }$\n",
    "\n",
    "\n",
    "$\\color{blue}\\textbf{Plot a graph of number of successful requests/seconds with one line }$\n",
    "\n",
    "$\\color{blue}\\textbf{for each of the four cases above.}$\n",
    "\n",
    "$\\color{blue}\\textbf{Paste the graph below.}$\n",
    "\n",
    "---\n",
    "\n",
    "$\\color{blue} \\textbf{Your answer:}$ \n",
    "\n",
    "--- \n",
    "\n",
    "$\\color{blue}\\textbf{What is the address of the numerical integrap webapp where we can access your site?}$\n",
    "\n",
    "--- \n",
    "\n",
    "$\\color{blue} \\textbf{Your answer:}$ \n",
    "\n",
    "--- \n",
    "\n",
    "$\\color{blue}\\textbf{What is the address of the numerical integrap function deployment?}$\n",
    "\n",
    "--- \n",
    "\n",
    "$\\color{blue} \\textbf{Your answer:}$ \n",
    "\n",
    "--- \n",
    "\n",
    "$\\color{blue}\\textbf{What is the address of the mapreduce durable function deployment where can invoke it?}$\n",
    "\n",
    "--- \n",
    "\n",
    "$\\color{blue} \\textbf{Your answer:}$ \n",
    "\n",
    "--- \n",
    "\n",
    "$\\color{blue}\\textbf{What is the gitlab URL where you have saved your assignment code?}$\n",
    "\n",
    "--- \n",
    "\n",
    "$\\color{blue} \\textbf{Your answer:}$ \n",
    "\n"
   ]
  },
  {
   "cell_type": "code",
   "execution_count": null,
   "id": "5dc5fb53-05d3-4991-bfae-342881c198f4",
   "metadata": {},
   "outputs": [],
   "source": []
  }
 ],
 "metadata": {
  "kernelspec": {
   "display_name": "Julia 1.11.1",
   "language": "julia",
   "name": "julia-1.11"
  },
  "language_info": {
   "file_extension": ".jl",
   "mimetype": "application/julia",
   "name": "julia",
   "version": "1.11.1"
  }
 },
 "nbformat": 4,
 "nbformat_minor": 5
}
